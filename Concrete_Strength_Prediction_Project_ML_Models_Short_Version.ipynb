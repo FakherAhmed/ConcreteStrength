{
 "cells": [
  {
   "cell_type": "markdown",
   "id": "1de4ae0d-f6be-4e3d-b1d2-e47f27272151",
   "metadata": {},
   "source": [
    "### Introduction\n",
    "\n",
    "Welcome to this notebook, which focuses on the comparison of several machine learning models for predicting the **compressive strength of concrete** based on various features such as the age of the concrete, and the amounts of materials like cement, water, and aggregates.\n",
    "\n",
    "In a previous, detailed script, I conducted an **Exploratory Data Analysis (EDA)** to gain insights into the dataset and performed **feature engineering** to prepare the data for modeling. The script also provided a comprehensive explanation and testing of several predictive models, including linear regression, decision trees, random forests, gradient boosting machines (GBM), and support vector machines (SVM).\n",
    "\n",
    "The goal of this notebook is to **compare the performance of machine learning models** to identify the most suitable model for predicting concrete compressive strength. This includes training each model, fine-tuning hyperparameters, and evaluating their performance using metrics such as R² and RMSE. Finally, I will compare the feature importances of the top models to better understand which features contribute most to accurate predictions.\n",
    "\n",
    "By the end of this notebook, you will have a clear overview of how these models perform and which model can best predict the compressive strength of concrete based on the available data."
   ]
  },
  {
   "cell_type": "markdown",
   "id": "13455e39-534b-4865-91f5-3d884c3bceb2",
   "metadata": {},
   "source": [
    "### Data Loading, Cleaning and Transforming"
   ]
  },
  {
   "cell_type": "code",
   "execution_count": 1,
   "id": "38369f78-4a2b-46a6-bfff-5009a0c94259",
   "metadata": {},
   "outputs": [
    {
     "name": "stdout",
     "output_type": "stream",
     "text": [
      "Data shape: (1030, 9)\n",
      "Data shape after removing duplicates: (1005, 9)\n",
      "No missing values found in the dataset.\n"
     ]
    }
   ],
   "source": [
    "import pandas as pd\n",
    "import numpy as np\n",
    "import matplotlib.pyplot as plt\n",
    "import seaborn as sns\n",
    "\n",
    "import warnings\n",
    "# Suppress all warnings\n",
    "warnings.filterwarnings(\"ignore\")\n",
    "\n",
    "# Load the dataset\n",
    "file_path = 'concrete_data.csv'  # file path\n",
    "concrete_data = pd.read_csv(file_path)\n",
    "df=concrete_data\n",
    "\n",
    "print(f\"Data shape: {concrete_data.shape}\")\n",
    "\n",
    "# Check for exact duplicates\n",
    "duplicate_rows = concrete_data[concrete_data.duplicated()]\n",
    "# Remove exact duplicates\n",
    "concrete_data = concrete_data.drop_duplicates()\n",
    "print(f\"Data shape after removing duplicates: {concrete_data.shape}\")\n",
    "\n",
    "# Check for missing values\n",
    "missing_values = concrete_data.isnull().sum()\n",
    "missing_percent = (missing_values / concrete_data.shape[0]) * 100\n",
    "missing_data = pd.DataFrame({'Missing Values': missing_values, 'Percentage': missing_percent})\n",
    "missing_data = missing_data[missing_data['Missing Values'] > 0]\n",
    "missing_data\n",
    "\n",
    "# Displaying missing values, if any\n",
    "if missing_values.any():\n",
    "    missing_values_df = pd.DataFrame(missing_values, columns=['Missing Values'])\n",
    "    display(HTML(\"<h3>Missing Values</h3>\"))\n",
    "    display(missing_values_df)\n",
    "else:\n",
    "    print(\"No missing values found in the dataset.\")\n",
    "\n",
    "\n",
    "# Logarithmic transformation of the Age Feature\n",
    "\n",
    "concrete_data['Log_Age'] = np.log(concrete_data['Age'])\n"
   ]
  },
  {
   "cell_type": "markdown",
   "id": "2daf5fc9-04b5-4071-b1dc-88749ef7beac",
   "metadata": {},
   "source": [
    "### Machine Learning"
   ]
  },
  {
   "cell_type": "markdown",
   "id": "b0b582c5-932a-4c25-8f08-372314543366",
   "metadata": {},
   "source": [
    "#### Split Train, Dev and Test Data"
   ]
  },
  {
   "cell_type": "code",
   "execution_count": 10,
   "id": "773fcd49-6f21-4018-af2f-c50e68b89045",
   "metadata": {},
   "outputs": [],
   "source": [
    "import numpy as np\n",
    "import pandas as pd\n",
    "from sklearn.model_selection import train_test_split, GridSearchCV\n",
    "from sklearn.preprocessing import StandardScaler\n",
    "from sklearn.linear_model import LinearRegression, ElasticNet\n",
    "from sklearn.tree import DecisionTreeRegressor\n",
    "from sklearn.ensemble import RandomForestRegressor, GradientBoostingRegressor\n",
    "from sklearn.svm import SVR\n",
    "from sklearn.neighbors import KNeighborsRegressor\n",
    "from sklearn.neural_network import MLPRegressor\n",
    "from sklearn.metrics import r2_score, mean_squared_error\n",
    "import matplotlib.pyplot as plt\n",
    "import seaborn as sns\n",
    "import plotly.graph_objects as go\n",
    "\n",
    "# Load your data\n",
    "# Assuming concrete_data is already loaded as a DataFrame\n",
    "\n",
    "# Define the columns to include\n",
    "columns = [\n",
    "    'Cement', 'Water', 'Log_Age', 'Blast Furnace Slag', 'Fly Ash',\n",
    "    'Superplasticizer', 'Coarse Aggregate', \n",
    "    'Fine Aggregate', 'Strength'\n",
    "]\n",
    "\n",
    "# Create a new DataFrame with only the specified columns\n",
    "data = concrete_data[columns]\n",
    "\n",
    "X = data.drop(['Strength'], axis=1)\n",
    "y = data['Strength']\n",
    "\n",
    "\n",
    "# Step 1: First, split the data into 85% (train + dev) and 15% (test)\n",
    "X_train_dev, X_test, y_train_dev, y_test = train_test_split(X, y, test_size=0.15, random_state=31)\n",
    "\n",
    "# Step 2: Then, split the remaining 85% (train + dev) into train (70%) and dev (30%)\n",
    "X_train, X_dev, y_train, y_dev = train_test_split(X_train_dev, y_train_dev, test_size=0.3, random_state=31)\n",
    "\n",
    "# Now, X_train, y_train: 70% of the original data\n",
    "# X_dev, y_dev: 15% of the original data (dev set)\n",
    "# X_test, y_test: 15% of the original data (test set)\n",
    "\n",
    "# Standardize the features\n",
    "scaler = StandardScaler()\n",
    "X_train = scaler.fit_transform(X_train)\n",
    "X_dev = scaler.transform(X_dev)\n",
    "X_test = scaler.transform(X_test)\n",
    "\n",
    "# Train your models on the train data, validate on the dev set, and finally evaluate on the test set.\n"
   ]
  },
  {
   "cell_type": "markdown",
   "id": "dd9a8425-71bb-487d-8b1e-7efc0e18d8a7",
   "metadata": {},
   "source": [
    "#### Set parameter grids and build models"
   ]
  },
  {
   "cell_type": "code",
   "execution_count": 11,
   "id": "25243efb-4eda-4f30-b78f-3a817bd10554",
   "metadata": {},
   "outputs": [
    {
     "name": "stdout",
     "output_type": "stream",
     "text": [
      "Best hyperparameters for ElasticNet: {'alpha': 0.05, 'l1_ratio': 0.9}\n",
      "Best hyperparameters for Decision Tree: {'max_depth': 6, 'min_samples_leaf': 10, 'min_samples_split': 10}\n",
      "Best hyperparameters for Random Forest: {'max_depth': 15, 'min_samples_leaf': 5, 'min_samples_split': 5, 'n_estimators': 150}\n",
      "Best hyperparameters for Gradient Boosting: {'learning_rate': 0.05, 'max_depth': 5, 'min_samples_leaf': 10, 'min_samples_split': 10, 'n_estimators': 300}\n",
      "Best hyperparameters for SVM: {'C': 10, 'epsilon': 0.2, 'kernel': 'rbf'}\n",
      "Best hyperparameters for k-NN: {'n_neighbors': 10, 'weights': 'distance'}\n",
      "Best hyperparameters for Artificial Neural Network (ANN): {'alpha': 0.01, 'hidden_layer_sizes': (100, 50), 'learning_rate_init': 0.005}\n",
      "                             Model  Train R²  Dev R²  Test R²  Train RMSE  \\\n",
      "0                       ElasticNet     0.813   0.792    0.808       6.897   \n",
      "1                    Decision Tree     0.837   0.766    0.790       6.429   \n",
      "2                    Random Forest     0.931   0.861    0.878       4.196   \n",
      "3                Gradient Boosting     0.986   0.898    0.931       1.912   \n",
      "4                              SVM     0.912   0.869    0.883       4.731   \n",
      "5                             k-NN     1.000   0.814    0.857       0.083   \n",
      "6  Artificial Neural Network (ANN)     0.969   0.873    0.923       2.800   \n",
      "\n",
      "   Dev RMSE  Test RMSE  Dev R² Difference  Test R² Difference  \\\n",
      "0     7.326      7.775              0.021               0.004   \n",
      "1     7.778      8.131              0.072               0.047   \n",
      "2     5.994      6.206              0.070               0.053   \n",
      "3     5.129      4.678              0.087               0.055   \n",
      "4     5.815      6.064              0.043               0.028   \n",
      "5     6.939      6.718              0.186               0.143   \n",
      "6     5.736      4.945              0.097               0.047   \n",
      "\n",
      "   Dev RMSE Difference  Test RMSE Difference  \n",
      "0                0.429                 0.878  \n",
      "1                1.349                 1.702  \n",
      "2                1.798                 2.010  \n",
      "3                3.217                 2.767  \n",
      "4                1.084                 1.333  \n",
      "5                6.856                 6.635  \n",
      "6                2.936                 2.145  \n"
     ]
    }
   ],
   "source": [
    "# Hyperparameter grids for each model\n",
    "param_grids = {\n",
    "    'ElasticNet': {\n",
    "        'alpha': [0.05, 0.1, 0.15],\n",
    "        'l1_ratio': [0.5, 0.7, 0.9]\n",
    "    },\n",
    "    'Decision Tree': {\n",
    "        'max_depth': [4, 5, 6],  # Reducing max_depth to control overfitting\n",
    "        'min_samples_split': [10, 15],\n",
    "        'min_samples_leaf': [10, 15]  # Increasing min_samples_leaf for smoother trees\n",
    "    },\n",
    "    'Random Forest': {\n",
    "        'n_estimators': [100, 150],\n",
    "        'max_depth': [10, 15, None],\n",
    "        'min_samples_split': [5, 10],\n",
    "        'min_samples_leaf': [5, 10]  # Increasing min_samples_leaf to prevent overfitting\n",
    "    },\n",
    "    'Gradient Boosting': {\n",
    "        'n_estimators': [250, 300],  # Slightly reducing the number of trees\n",
    "        'learning_rate': [0.01, 0.05],\n",
    "        'max_depth': [4, 5],  # Smaller depth for more generalization\n",
    "        'min_samples_split': [10, 15],\n",
    "        'min_samples_leaf': [10, 15]\n",
    "    },\n",
    "    'SVM': {\n",
    "        'C': [5, 10],\n",
    "        'epsilon': [0.2, 0.5],\n",
    "        'kernel': ['rbf']\n",
    "    },\n",
    "    'k-NN': {\n",
    "        'n_neighbors': [10, 15, 20],  # Testing more neighbors for smoother predictions\n",
    "        'weights': ['distance', 'uniform']  # Testing both weights for better generalization\n",
    "    },\n",
    "    'Artificial Neural Network (ANN)': {\n",
    "        'hidden_layer_sizes': [(50, 50), (100, 50)],  # Smaller layers to prevent overfitting\n",
    "        'alpha': [0.001, 0.01],  # Increased regularization\n",
    "        'learning_rate_init': [0.001, 0.005]\n",
    "    }\n",
    "}\n",
    "\n",
    "# Define models for the GridSearch\n",
    "models = {\n",
    "    'ElasticNet': ElasticNet(),\n",
    "    'Decision Tree': DecisionTreeRegressor(random_state=42),\n",
    "    'Random Forest': RandomForestRegressor(random_state=42),\n",
    "    'Gradient Boosting': GradientBoostingRegressor(random_state=42),\n",
    "    'SVM': SVR(),\n",
    "    'k-NN': KNeighborsRegressor(),\n",
    "    'Artificial Neural Network (ANN)': MLPRegressor(random_state=42, max_iter=1000)\n",
    "}\n",
    "\n",
    "results = []\n",
    "feature_importances = {}\n",
    "\n",
    "# Assuming you have already split data into X_train, X_dev, X_test, y_train, y_dev, y_test\n",
    "\n",
    "# Train and evaluate each model with GridSearchCV\n",
    "for name, model in models.items():\n",
    "    param_grid = param_grids[name]\n",
    "    grid_search = GridSearchCV(estimator=model, param_grid=param_grid, cv=5, n_jobs=-1, scoring='r2')\n",
    "    grid_search.fit(X_train, y_train)\n",
    "    best_model = grid_search.best_estimator_\n",
    "    print(f\"Best hyperparameters for {name}: {grid_search.best_params_}\")\n",
    "\n",
    "    # Predictions for Train, Dev, and Test sets\n",
    "    y_train_pred = best_model.predict(X_train)\n",
    "    y_dev_pred = best_model.predict(X_dev)\n",
    "    y_test_pred = best_model.predict(X_test)\n",
    "    \n",
    "    # Calculate R² and RMSE for training, dev, and test sets\n",
    "    train_r2 = r2_score(y_train, y_train_pred)\n",
    "    dev_r2 = r2_score(y_dev, y_dev_pred)\n",
    "    test_r2 = r2_score(y_test, y_test_pred)\n",
    "    \n",
    "    train_rmse = np.sqrt(mean_squared_error(y_train, y_train_pred))\n",
    "    dev_rmse = np.sqrt(mean_squared_error(y_dev, y_dev_pred))\n",
    "    test_rmse = np.sqrt(mean_squared_error(y_test, y_test_pred))\n",
    "    \n",
    "    # Calculate the difference between train, dev, and test metrics\n",
    "    r2_diff_dev = train_r2 - dev_r2\n",
    "    r2_diff_test = train_r2 - test_r2\n",
    "    \n",
    "    rmse_diff_dev = dev_rmse - train_rmse\n",
    "    rmse_diff_test = test_rmse - train_rmse\n",
    "    \n",
    "    # Store results\n",
    "    results.append({\n",
    "        'Model': name,\n",
    "        'Train R²': train_r2,\n",
    "        'Dev R²': dev_r2,\n",
    "        'Test R²': test_r2,\n",
    "        'Train RMSE': train_rmse,\n",
    "        'Dev RMSE': dev_rmse,\n",
    "        'Test RMSE': test_rmse,\n",
    "        'Dev R² Difference': r2_diff_dev,\n",
    "        'Test R² Difference': r2_diff_test,\n",
    "        'Dev RMSE Difference': rmse_diff_dev,\n",
    "        'Test RMSE Difference': rmse_diff_test\n",
    "    })\n",
    "\n",
    "# Convert results into a DataFrame for easier viewing\n",
    "results_df = pd.DataFrame(results)\n",
    "\n",
    "# Round the results DataFrame to 3 decimal places\n",
    "results_df = results_df.round(3)\n",
    "\n",
    "# Display the results\n",
    "print(results_df)\n"
   ]
  },
  {
   "cell_type": "code",
   "execution_count": 4,
   "id": "a318954a-773c-45c9-883d-c604a2f28d10",
   "metadata": {},
   "outputs": [
    {
     "name": "stdout",
     "output_type": "stream",
     "text": [
      "                             Model  Train R²  Dev R²  Test R²  Train RMSE  \\\n",
      "0                       ElasticNet     0.814   0.804    0.796       6.894   \n",
      "1                    Decision Tree     0.819   0.729    0.738       6.796   \n",
      "2                    Random Forest     0.929   0.860    0.828       4.241   \n",
      "3                Gradient Boosting     0.986   0.915    0.888       1.892   \n",
      "4                              SVM     0.919   0.875    0.866       4.546   \n",
      "5                             k-NN     0.999   0.822    0.792       0.410   \n",
      "6  Artificial Neural Network (ANN)     0.976   0.912    0.910       2.484   \n",
      "\n",
      "   Dev RMSE  Test RMSE  Dev R² Difference  Test R² Difference  \\\n",
      "0     7.268      7.757              0.010               0.017   \n",
      "1     8.539      8.794              0.089               0.081   \n",
      "2     6.150      7.130              0.070               0.101   \n",
      "3     4.791      5.761              0.071               0.098   \n",
      "4     5.810      6.296              0.044               0.053   \n",
      "5     6.925      7.834              0.177               0.207   \n",
      "6     4.867      5.163              0.064               0.066   \n",
      "\n",
      "   Dev RMSE Difference  Test RMSE Difference  \n",
      "0                0.374                 0.863  \n",
      "1                1.743                 1.998  \n",
      "2                1.909                 2.889  \n",
      "3                2.898                 3.868  \n",
      "4                1.264                 1.751  \n",
      "5                6.515                 7.424  \n",
      "6                2.383                 2.679  \n"
     ]
    }
   ],
   "source": [
    "print(results_df)"
   ]
  },
  {
   "cell_type": "code",
   "execution_count": 12,
   "id": "5fff88e5-e030-4322-9a43-2a24fe7f6466",
   "metadata": {},
   "outputs": [
    {
     "data": {
      "application/vnd.plotly.v1+json": {
       "config": {
        "plotlyServerURL": "https://plot.ly"
       },
       "data": [
        {
         "cells": {
          "align": "left",
          "fill": {
           "color": "lavender"
          },
          "values": [
           [
            "Gradient Boosting",
            "Artificial Neural Network (ANN)",
            "SVM",
            "Random Forest",
            "k-NN",
            "ElasticNet",
            "Decision Tree"
           ],
           [
            0.986,
            0.969,
            0.912,
            0.931,
            1,
            0.813,
            0.837
           ],
           [
            0.898,
            0.873,
            0.869,
            0.861,
            0.814,
            0.792,
            0.766
           ],
           [
            0.931,
            0.923,
            0.883,
            0.878,
            0.857,
            0.808,
            0.79
           ],
           [
            1.912,
            2.8,
            4.731,
            4.196,
            0.083,
            6.897,
            6.429
           ],
           [
            5.129,
            5.736,
            5.815,
            5.994,
            6.939,
            7.326,
            7.778
           ],
           [
            4.678,
            4.945,
            6.064,
            6.206,
            6.718,
            7.775,
            8.131
           ],
           [
            0.055,
            0.047,
            0.028,
            0.053,
            0.143,
            0.004,
            0.047
           ],
           [
            2.767,
            2.145,
            1.333,
            2.01,
            6.635,
            0.878,
            1.702
           ]
          ]
         },
         "header": {
          "align": "left",
          "fill": {
           "color": "paleturquoise"
          },
          "values": [
           "Model",
           "Train R²",
           "Dev R²",
           "Test R²",
           "Train RMSE",
           "Dev RMSE",
           "Test RMSE",
           "Test R² Difference",
           "Test RMSE Difference"
          ]
         },
         "type": "table"
        }
       ],
       "layout": {
        "autosize": true,
        "template": {
         "data": {
          "bar": [
           {
            "error_x": {
             "color": "#2a3f5f"
            },
            "error_y": {
             "color": "#2a3f5f"
            },
            "marker": {
             "line": {
              "color": "#E5ECF6",
              "width": 0.5
             },
             "pattern": {
              "fillmode": "overlay",
              "size": 10,
              "solidity": 0.2
             }
            },
            "type": "bar"
           }
          ],
          "barpolar": [
           {
            "marker": {
             "line": {
              "color": "#E5ECF6",
              "width": 0.5
             },
             "pattern": {
              "fillmode": "overlay",
              "size": 10,
              "solidity": 0.2
             }
            },
            "type": "barpolar"
           }
          ],
          "carpet": [
           {
            "aaxis": {
             "endlinecolor": "#2a3f5f",
             "gridcolor": "white",
             "linecolor": "white",
             "minorgridcolor": "white",
             "startlinecolor": "#2a3f5f"
            },
            "baxis": {
             "endlinecolor": "#2a3f5f",
             "gridcolor": "white",
             "linecolor": "white",
             "minorgridcolor": "white",
             "startlinecolor": "#2a3f5f"
            },
            "type": "carpet"
           }
          ],
          "choropleth": [
           {
            "colorbar": {
             "outlinewidth": 0,
             "ticks": ""
            },
            "type": "choropleth"
           }
          ],
          "contour": [
           {
            "colorbar": {
             "outlinewidth": 0,
             "ticks": ""
            },
            "colorscale": [
             [
              0,
              "#0d0887"
             ],
             [
              0.1111111111111111,
              "#46039f"
             ],
             [
              0.2222222222222222,
              "#7201a8"
             ],
             [
              0.3333333333333333,
              "#9c179e"
             ],
             [
              0.4444444444444444,
              "#bd3786"
             ],
             [
              0.5555555555555556,
              "#d8576b"
             ],
             [
              0.6666666666666666,
              "#ed7953"
             ],
             [
              0.7777777777777778,
              "#fb9f3a"
             ],
             [
              0.8888888888888888,
              "#fdca26"
             ],
             [
              1,
              "#f0f921"
             ]
            ],
            "type": "contour"
           }
          ],
          "contourcarpet": [
           {
            "colorbar": {
             "outlinewidth": 0,
             "ticks": ""
            },
            "type": "contourcarpet"
           }
          ],
          "heatmap": [
           {
            "colorbar": {
             "outlinewidth": 0,
             "ticks": ""
            },
            "colorscale": [
             [
              0,
              "#0d0887"
             ],
             [
              0.1111111111111111,
              "#46039f"
             ],
             [
              0.2222222222222222,
              "#7201a8"
             ],
             [
              0.3333333333333333,
              "#9c179e"
             ],
             [
              0.4444444444444444,
              "#bd3786"
             ],
             [
              0.5555555555555556,
              "#d8576b"
             ],
             [
              0.6666666666666666,
              "#ed7953"
             ],
             [
              0.7777777777777778,
              "#fb9f3a"
             ],
             [
              0.8888888888888888,
              "#fdca26"
             ],
             [
              1,
              "#f0f921"
             ]
            ],
            "type": "heatmap"
           }
          ],
          "heatmapgl": [
           {
            "colorbar": {
             "outlinewidth": 0,
             "ticks": ""
            },
            "colorscale": [
             [
              0,
              "#0d0887"
             ],
             [
              0.1111111111111111,
              "#46039f"
             ],
             [
              0.2222222222222222,
              "#7201a8"
             ],
             [
              0.3333333333333333,
              "#9c179e"
             ],
             [
              0.4444444444444444,
              "#bd3786"
             ],
             [
              0.5555555555555556,
              "#d8576b"
             ],
             [
              0.6666666666666666,
              "#ed7953"
             ],
             [
              0.7777777777777778,
              "#fb9f3a"
             ],
             [
              0.8888888888888888,
              "#fdca26"
             ],
             [
              1,
              "#f0f921"
             ]
            ],
            "type": "heatmapgl"
           }
          ],
          "histogram": [
           {
            "marker": {
             "pattern": {
              "fillmode": "overlay",
              "size": 10,
              "solidity": 0.2
             }
            },
            "type": "histogram"
           }
          ],
          "histogram2d": [
           {
            "colorbar": {
             "outlinewidth": 0,
             "ticks": ""
            },
            "colorscale": [
             [
              0,
              "#0d0887"
             ],
             [
              0.1111111111111111,
              "#46039f"
             ],
             [
              0.2222222222222222,
              "#7201a8"
             ],
             [
              0.3333333333333333,
              "#9c179e"
             ],
             [
              0.4444444444444444,
              "#bd3786"
             ],
             [
              0.5555555555555556,
              "#d8576b"
             ],
             [
              0.6666666666666666,
              "#ed7953"
             ],
             [
              0.7777777777777778,
              "#fb9f3a"
             ],
             [
              0.8888888888888888,
              "#fdca26"
             ],
             [
              1,
              "#f0f921"
             ]
            ],
            "type": "histogram2d"
           }
          ],
          "histogram2dcontour": [
           {
            "colorbar": {
             "outlinewidth": 0,
             "ticks": ""
            },
            "colorscale": [
             [
              0,
              "#0d0887"
             ],
             [
              0.1111111111111111,
              "#46039f"
             ],
             [
              0.2222222222222222,
              "#7201a8"
             ],
             [
              0.3333333333333333,
              "#9c179e"
             ],
             [
              0.4444444444444444,
              "#bd3786"
             ],
             [
              0.5555555555555556,
              "#d8576b"
             ],
             [
              0.6666666666666666,
              "#ed7953"
             ],
             [
              0.7777777777777778,
              "#fb9f3a"
             ],
             [
              0.8888888888888888,
              "#fdca26"
             ],
             [
              1,
              "#f0f921"
             ]
            ],
            "type": "histogram2dcontour"
           }
          ],
          "mesh3d": [
           {
            "colorbar": {
             "outlinewidth": 0,
             "ticks": ""
            },
            "type": "mesh3d"
           }
          ],
          "parcoords": [
           {
            "line": {
             "colorbar": {
              "outlinewidth": 0,
              "ticks": ""
             }
            },
            "type": "parcoords"
           }
          ],
          "pie": [
           {
            "automargin": true,
            "type": "pie"
           }
          ],
          "scatter": [
           {
            "fillpattern": {
             "fillmode": "overlay",
             "size": 10,
             "solidity": 0.2
            },
            "type": "scatter"
           }
          ],
          "scatter3d": [
           {
            "line": {
             "colorbar": {
              "outlinewidth": 0,
              "ticks": ""
             }
            },
            "marker": {
             "colorbar": {
              "outlinewidth": 0,
              "ticks": ""
             }
            },
            "type": "scatter3d"
           }
          ],
          "scattercarpet": [
           {
            "marker": {
             "colorbar": {
              "outlinewidth": 0,
              "ticks": ""
             }
            },
            "type": "scattercarpet"
           }
          ],
          "scattergeo": [
           {
            "marker": {
             "colorbar": {
              "outlinewidth": 0,
              "ticks": ""
             }
            },
            "type": "scattergeo"
           }
          ],
          "scattergl": [
           {
            "marker": {
             "colorbar": {
              "outlinewidth": 0,
              "ticks": ""
             }
            },
            "type": "scattergl"
           }
          ],
          "scattermapbox": [
           {
            "marker": {
             "colorbar": {
              "outlinewidth": 0,
              "ticks": ""
             }
            },
            "type": "scattermapbox"
           }
          ],
          "scatterpolar": [
           {
            "marker": {
             "colorbar": {
              "outlinewidth": 0,
              "ticks": ""
             }
            },
            "type": "scatterpolar"
           }
          ],
          "scatterpolargl": [
           {
            "marker": {
             "colorbar": {
              "outlinewidth": 0,
              "ticks": ""
             }
            },
            "type": "scatterpolargl"
           }
          ],
          "scatterternary": [
           {
            "marker": {
             "colorbar": {
              "outlinewidth": 0,
              "ticks": ""
             }
            },
            "type": "scatterternary"
           }
          ],
          "surface": [
           {
            "colorbar": {
             "outlinewidth": 0,
             "ticks": ""
            },
            "colorscale": [
             [
              0,
              "#0d0887"
             ],
             [
              0.1111111111111111,
              "#46039f"
             ],
             [
              0.2222222222222222,
              "#7201a8"
             ],
             [
              0.3333333333333333,
              "#9c179e"
             ],
             [
              0.4444444444444444,
              "#bd3786"
             ],
             [
              0.5555555555555556,
              "#d8576b"
             ],
             [
              0.6666666666666666,
              "#ed7953"
             ],
             [
              0.7777777777777778,
              "#fb9f3a"
             ],
             [
              0.8888888888888888,
              "#fdca26"
             ],
             [
              1,
              "#f0f921"
             ]
            ],
            "type": "surface"
           }
          ],
          "table": [
           {
            "cells": {
             "fill": {
              "color": "#EBF0F8"
             },
             "line": {
              "color": "white"
             }
            },
            "header": {
             "fill": {
              "color": "#C8D4E3"
             },
             "line": {
              "color": "white"
             }
            },
            "type": "table"
           }
          ]
         },
         "layout": {
          "annotationdefaults": {
           "arrowcolor": "#2a3f5f",
           "arrowhead": 0,
           "arrowwidth": 1
          },
          "autotypenumbers": "strict",
          "coloraxis": {
           "colorbar": {
            "outlinewidth": 0,
            "ticks": ""
           }
          },
          "colorscale": {
           "diverging": [
            [
             0,
             "#8e0152"
            ],
            [
             0.1,
             "#c51b7d"
            ],
            [
             0.2,
             "#de77ae"
            ],
            [
             0.3,
             "#f1b6da"
            ],
            [
             0.4,
             "#fde0ef"
            ],
            [
             0.5,
             "#f7f7f7"
            ],
            [
             0.6,
             "#e6f5d0"
            ],
            [
             0.7,
             "#b8e186"
            ],
            [
             0.8,
             "#7fbc41"
            ],
            [
             0.9,
             "#4d9221"
            ],
            [
             1,
             "#276419"
            ]
           ],
           "sequential": [
            [
             0,
             "#0d0887"
            ],
            [
             0.1111111111111111,
             "#46039f"
            ],
            [
             0.2222222222222222,
             "#7201a8"
            ],
            [
             0.3333333333333333,
             "#9c179e"
            ],
            [
             0.4444444444444444,
             "#bd3786"
            ],
            [
             0.5555555555555556,
             "#d8576b"
            ],
            [
             0.6666666666666666,
             "#ed7953"
            ],
            [
             0.7777777777777778,
             "#fb9f3a"
            ],
            [
             0.8888888888888888,
             "#fdca26"
            ],
            [
             1,
             "#f0f921"
            ]
           ],
           "sequentialminus": [
            [
             0,
             "#0d0887"
            ],
            [
             0.1111111111111111,
             "#46039f"
            ],
            [
             0.2222222222222222,
             "#7201a8"
            ],
            [
             0.3333333333333333,
             "#9c179e"
            ],
            [
             0.4444444444444444,
             "#bd3786"
            ],
            [
             0.5555555555555556,
             "#d8576b"
            ],
            [
             0.6666666666666666,
             "#ed7953"
            ],
            [
             0.7777777777777778,
             "#fb9f3a"
            ],
            [
             0.8888888888888888,
             "#fdca26"
            ],
            [
             1,
             "#f0f921"
            ]
           ]
          },
          "colorway": [
           "#636efa",
           "#EF553B",
           "#00cc96",
           "#ab63fa",
           "#FFA15A",
           "#19d3f3",
           "#FF6692",
           "#B6E880",
           "#FF97FF",
           "#FECB52"
          ],
          "font": {
           "color": "#2a3f5f"
          },
          "geo": {
           "bgcolor": "white",
           "lakecolor": "white",
           "landcolor": "#E5ECF6",
           "showlakes": true,
           "showland": true,
           "subunitcolor": "white"
          },
          "hoverlabel": {
           "align": "left"
          },
          "hovermode": "closest",
          "mapbox": {
           "style": "light"
          },
          "paper_bgcolor": "white",
          "plot_bgcolor": "#E5ECF6",
          "polar": {
           "angularaxis": {
            "gridcolor": "white",
            "linecolor": "white",
            "ticks": ""
           },
           "bgcolor": "#E5ECF6",
           "radialaxis": {
            "gridcolor": "white",
            "linecolor": "white",
            "ticks": ""
           }
          },
          "scene": {
           "xaxis": {
            "backgroundcolor": "#E5ECF6",
            "gridcolor": "white",
            "gridwidth": 2,
            "linecolor": "white",
            "showbackground": true,
            "ticks": "",
            "zerolinecolor": "white"
           },
           "yaxis": {
            "backgroundcolor": "#E5ECF6",
            "gridcolor": "white",
            "gridwidth": 2,
            "linecolor": "white",
            "showbackground": true,
            "ticks": "",
            "zerolinecolor": "white"
           },
           "zaxis": {
            "backgroundcolor": "#E5ECF6",
            "gridcolor": "white",
            "gridwidth": 2,
            "linecolor": "white",
            "showbackground": true,
            "ticks": "",
            "zerolinecolor": "white"
           }
          },
          "shapedefaults": {
           "line": {
            "color": "#2a3f5f"
           }
          },
          "ternary": {
           "aaxis": {
            "gridcolor": "white",
            "linecolor": "white",
            "ticks": ""
           },
           "baxis": {
            "gridcolor": "white",
            "linecolor": "white",
            "ticks": ""
           },
           "bgcolor": "#E5ECF6",
           "caxis": {
            "gridcolor": "white",
            "linecolor": "white",
            "ticks": ""
           }
          },
          "title": {
           "x": 0.05
          },
          "xaxis": {
           "automargin": true,
           "gridcolor": "white",
           "linecolor": "white",
           "ticks": "",
           "title": {
            "standoff": 15
           },
           "zerolinecolor": "white",
           "zerolinewidth": 2
          },
          "yaxis": {
           "automargin": true,
           "gridcolor": "white",
           "linecolor": "white",
           "ticks": "",
           "title": {
            "standoff": 15
           },
           "zerolinecolor": "white",
           "zerolinewidth": 2
          }
         }
        },
        "title": {
         "text": "Model Comparison Table (R² and RMSE Differences Across Train, Dev, and Test Sets)",
         "x": 0.5
        }
       }
      },
      "image/png": "[encoded data removed]",
      "text/html": [
       "<div>                            <div id=\"6caf37e5-9dea-4e87-8e49-fce5c5efb856\" class=\"plotly-graph-div\" style=\"height:520px; width:100%;\"></div>            <script type=\"text/javascript\">                require([\"plotly\"], function(Plotly) {                    window.PLOTLYENV=window.PLOTLYENV || {};                                    if (document.getElementById(\"6caf37e5-9dea-4e87-8e49-fce5c5efb856\")) {                    Plotly.newPlot(                        \"6caf37e5-9dea-4e87-8e49-fce5c5efb856\",                        [{\"cells\":{\"align\":\"left\",\"fill\":{\"color\":\"lavender\"},\"values\":[[\"Gradient Boosting\",\"Artificial Neural Network (ANN)\",\"SVM\",\"Random Forest\",\"k-NN\",\"ElasticNet\",\"Decision Tree\"],[0.986,0.969,0.912,0.931,1.0,0.813,0.837],[0.898,0.873,0.869,0.861,0.814,0.792,0.766],[0.931,0.923,0.883,0.878,0.857,0.808,0.79],[1.912,2.8,4.731,4.196,0.083,6.897,6.429],[5.129,5.736,5.815,5.994,6.939,7.326,7.778],[4.678,4.945,6.064,6.206,6.718,7.775,8.131],[0.055,0.047,0.028,0.053,0.143,0.004,0.047],[2.767,2.145,1.333,2.01,6.635,0.878,1.702]]},\"header\":{\"align\":\"left\",\"fill\":{\"color\":\"paleturquoise\"},\"values\":[\"Model\",\"Train R\\u00b2\",\"Dev R\\u00b2\",\"Test R\\u00b2\",\"Train RMSE\",\"Dev RMSE\",\"Test RMSE\",\"Test R\\u00b2 Difference\",\"Test RMSE Difference\"]},\"type\":\"table\"}],                        {\"template\":{\"data\":{\"histogram2dcontour\":[{\"type\":\"histogram2dcontour\",\"colorbar\":{\"outlinewidth\":0,\"ticks\":\"\"},\"colorscale\":[[0.0,\"#0d0887\"],[0.1111111111111111,\"#46039f\"],[0.2222222222222222,\"#7201a8\"],[0.3333333333333333,\"#9c179e\"],[0.4444444444444444,\"#bd3786\"],[0.5555555555555556,\"#d8576b\"],[0.6666666666666666,\"#ed7953\"],[0.7777777777777778,\"#fb9f3a\"],[0.8888888888888888,\"#fdca26\"],[1.0,\"#f0f921\"]]}],\"choropleth\":[{\"type\":\"choropleth\",\"colorbar\":{\"outlinewidth\":0,\"ticks\":\"\"}}],\"histogram2d\":[{\"type\":\"histogram2d\",\"colorbar\":{\"outlinewidth\":0,\"ticks\":\"\"},\"colorscale\":[[0.0,\"#0d0887\"],[0.1111111111111111,\"#46039f\"],[0.2222222222222222,\"#7201a8\"],[0.3333333333333333,\"#9c179e\"],[0.4444444444444444,\"#bd3786\"],[0.5555555555555556,\"#d8576b\"],[0.6666666666666666,\"#ed7953\"],[0.7777777777777778,\"#fb9f3a\"],[0.8888888888888888,\"#fdca26\"],[1.0,\"#f0f921\"]]}],\"heatmap\":[{\"type\":\"heatmap\",\"colorbar\":{\"outlinewidth\":0,\"ticks\":\"\"},\"colorscale\":[[0.0,\"#0d0887\"],[0.1111111111111111,\"#46039f\"],[0.2222222222222222,\"#7201a8\"],[0.3333333333333333,\"#9c179e\"],[0.4444444444444444,\"#bd3786\"],[0.5555555555555556,\"#d8576b\"],[0.6666666666666666,\"#ed7953\"],[0.7777777777777778,\"#fb9f3a\"],[0.8888888888888888,\"#fdca26\"],[1.0,\"#f0f921\"]]}],\"heatmapgl\":[{\"type\":\"heatmapgl\",\"colorbar\":{\"outlinewidth\":0,\"ticks\":\"\"},\"colorscale\":[[0.0,\"#0d0887\"],[0.1111111111111111,\"#46039f\"],[0.2222222222222222,\"#7201a8\"],[0.3333333333333333,\"#9c179e\"],[0.4444444444444444,\"#bd3786\"],[0.5555555555555556,\"#d8576b\"],[0.6666666666666666,\"#ed7953\"],[0.7777777777777778,\"#fb9f3a\"],[0.8888888888888888,\"#fdca26\"],[1.0,\"#f0f921\"]]}],\"contourcarpet\":[{\"type\":\"contourcarpet\",\"colorbar\":{\"outlinewidth\":0,\"ticks\":\"\"}}],\"contour\":[{\"type\":\"contour\",\"colorbar\":{\"outlinewidth\":0,\"ticks\":\"\"},\"colorscale\":[[0.0,\"#0d0887\"],[0.1111111111111111,\"#46039f\"],[0.2222222222222222,\"#7201a8\"],[0.3333333333333333,\"#9c179e\"],[0.4444444444444444,\"#bd3786\"],[0.5555555555555556,\"#d8576b\"],[0.6666666666666666,\"#ed7953\"],[0.7777777777777778,\"#fb9f3a\"],[0.8888888888888888,\"#fdca26\"],[1.0,\"#f0f921\"]]}],\"surface\":[{\"type\":\"surface\",\"colorbar\":{\"outlinewidth\":0,\"ticks\":\"\"},\"colorscale\":[[0.0,\"#0d0887\"],[0.1111111111111111,\"#46039f\"],[0.2222222222222222,\"#7201a8\"],[0.3333333333333333,\"#9c179e\"],[0.4444444444444444,\"#bd3786\"],[0.5555555555555556,\"#d8576b\"],[0.6666666666666666,\"#ed7953\"],[0.7777777777777778,\"#fb9f3a\"],[0.8888888888888888,\"#fdca26\"],[1.0,\"#f0f921\"]]}],\"mesh3d\":[{\"type\":\"mesh3d\",\"colorbar\":{\"outlinewidth\":0,\"ticks\":\"\"}}],\"scatter\":[{\"fillpattern\":{\"fillmode\":\"overlay\",\"size\":10,\"solidity\":0.2},\"type\":\"scatter\"}],\"parcoords\":[{\"type\":\"parcoords\",\"line\":{\"colorbar\":{\"outlinewidth\":0,\"ticks\":\"\"}}}],\"scatterpolargl\":[{\"type\":\"scatterpolargl\",\"marker\":{\"colorbar\":{\"outlinewidth\":0,\"ticks\":\"\"}}}],\"bar\":[{\"error_x\":{\"color\":\"#2a3f5f\"},\"error_y\":{\"color\":\"#2a3f5f\"},\"marker\":{\"line\":{\"color\":\"#E5ECF6\",\"width\":0.5},\"pattern\":{\"fillmode\":\"overlay\",\"size\":10,\"solidity\":0.2}},\"type\":\"bar\"}],\"scattergeo\":[{\"type\":\"scattergeo\",\"marker\":{\"colorbar\":{\"outlinewidth\":0,\"ticks\":\"\"}}}],\"scatterpolar\":[{\"type\":\"scatterpolar\",\"marker\":{\"colorbar\":{\"outlinewidth\":0,\"ticks\":\"\"}}}],\"histogram\":[{\"marker\":{\"pattern\":{\"fillmode\":\"overlay\",\"size\":10,\"solidity\":0.2}},\"type\":\"histogram\"}],\"scattergl\":[{\"type\":\"scattergl\",\"marker\":{\"colorbar\":{\"outlinewidth\":0,\"ticks\":\"\"}}}],\"scatter3d\":[{\"type\":\"scatter3d\",\"line\":{\"colorbar\":{\"outlinewidth\":0,\"ticks\":\"\"}},\"marker\":{\"colorbar\":{\"outlinewidth\":0,\"ticks\":\"\"}}}],\"scattermapbox\":[{\"type\":\"scattermapbox\",\"marker\":{\"colorbar\":{\"outlinewidth\":0,\"ticks\":\"\"}}}],\"scatterternary\":[{\"type\":\"scatterternary\",\"marker\":{\"colorbar\":{\"outlinewidth\":0,\"ticks\":\"\"}}}],\"scattercarpet\":[{\"type\":\"scattercarpet\",\"marker\":{\"colorbar\":{\"outlinewidth\":0,\"ticks\":\"\"}}}],\"carpet\":[{\"aaxis\":{\"endlinecolor\":\"#2a3f5f\",\"gridcolor\":\"white\",\"linecolor\":\"white\",\"minorgridcolor\":\"white\",\"startlinecolor\":\"#2a3f5f\"},\"baxis\":{\"endlinecolor\":\"#2a3f5f\",\"gridcolor\":\"white\",\"linecolor\":\"white\",\"minorgridcolor\":\"white\",\"startlinecolor\":\"#2a3f5f\"},\"type\":\"carpet\"}],\"table\":[{\"cells\":{\"fill\":{\"color\":\"#EBF0F8\"},\"line\":{\"color\":\"white\"}},\"header\":{\"fill\":{\"color\":\"#C8D4E3\"},\"line\":{\"color\":\"white\"}},\"type\":\"table\"}],\"barpolar\":[{\"marker\":{\"line\":{\"color\":\"#E5ECF6\",\"width\":0.5},\"pattern\":{\"fillmode\":\"overlay\",\"size\":10,\"solidity\":0.2}},\"type\":\"barpolar\"}],\"pie\":[{\"automargin\":true,\"type\":\"pie\"}]},\"layout\":{\"autotypenumbers\":\"strict\",\"colorway\":[\"#636efa\",\"#EF553B\",\"#00cc96\",\"#ab63fa\",\"#FFA15A\",\"#19d3f3\",\"#FF6692\",\"#B6E880\",\"#FF97FF\",\"#FECB52\"],\"font\":{\"color\":\"#2a3f5f\"},\"hovermode\":\"closest\",\"hoverlabel\":{\"align\":\"left\"},\"paper_bgcolor\":\"white\",\"plot_bgcolor\":\"#E5ECF6\",\"polar\":{\"bgcolor\":\"#E5ECF6\",\"angularaxis\":{\"gridcolor\":\"white\",\"linecolor\":\"white\",\"ticks\":\"\"},\"radialaxis\":{\"gridcolor\":\"white\",\"linecolor\":\"white\",\"ticks\":\"\"}},\"ternary\":{\"bgcolor\":\"#E5ECF6\",\"aaxis\":{\"gridcolor\":\"white\",\"linecolor\":\"white\",\"ticks\":\"\"},\"baxis\":{\"gridcolor\":\"white\",\"linecolor\":\"white\",\"ticks\":\"\"},\"caxis\":{\"gridcolor\":\"white\",\"linecolor\":\"white\",\"ticks\":\"\"}},\"coloraxis\":{\"colorbar\":{\"outlinewidth\":0,\"ticks\":\"\"}},\"colorscale\":{\"sequential\":[[0.0,\"#0d0887\"],[0.1111111111111111,\"#46039f\"],[0.2222222222222222,\"#7201a8\"],[0.3333333333333333,\"#9c179e\"],[0.4444444444444444,\"#bd3786\"],[0.5555555555555556,\"#d8576b\"],[0.6666666666666666,\"#ed7953\"],[0.7777777777777778,\"#fb9f3a\"],[0.8888888888888888,\"#fdca26\"],[1.0,\"#f0f921\"]],\"sequentialminus\":[[0.0,\"#0d0887\"],[0.1111111111111111,\"#46039f\"],[0.2222222222222222,\"#7201a8\"],[0.3333333333333333,\"#9c179e\"],[0.4444444444444444,\"#bd3786\"],[0.5555555555555556,\"#d8576b\"],[0.6666666666666666,\"#ed7953\"],[0.7777777777777778,\"#fb9f3a\"],[0.8888888888888888,\"#fdca26\"],[1.0,\"#f0f921\"]],\"diverging\":[[0,\"#8e0152\"],[0.1,\"#c51b7d\"],[0.2,\"#de77ae\"],[0.3,\"#f1b6da\"],[0.4,\"#fde0ef\"],[0.5,\"#f7f7f7\"],[0.6,\"#e6f5d0\"],[0.7,\"#b8e186\"],[0.8,\"#7fbc41\"],[0.9,\"#4d9221\"],[1,\"#276419\"]]},\"xaxis\":{\"gridcolor\":\"white\",\"linecolor\":\"white\",\"ticks\":\"\",\"title\":{\"standoff\":15},\"zerolinecolor\":\"white\",\"automargin\":true,\"zerolinewidth\":2},\"yaxis\":{\"gridcolor\":\"white\",\"linecolor\":\"white\",\"ticks\":\"\",\"title\":{\"standoff\":15},\"zerolinecolor\":\"white\",\"automargin\":true,\"zerolinewidth\":2},\"scene\":{\"xaxis\":{\"backgroundcolor\":\"#E5ECF6\",\"gridcolor\":\"white\",\"linecolor\":\"white\",\"showbackground\":true,\"ticks\":\"\",\"zerolinecolor\":\"white\",\"gridwidth\":2},\"yaxis\":{\"backgroundcolor\":\"#E5ECF6\",\"gridcolor\":\"white\",\"linecolor\":\"white\",\"showbackground\":true,\"ticks\":\"\",\"zerolinecolor\":\"white\",\"gridwidth\":2},\"zaxis\":{\"backgroundcolor\":\"#E5ECF6\",\"gridcolor\":\"white\",\"linecolor\":\"white\",\"showbackground\":true,\"ticks\":\"\",\"zerolinecolor\":\"white\",\"gridwidth\":2}},\"shapedefaults\":{\"line\":{\"color\":\"#2a3f5f\"}},\"annotationdefaults\":{\"arrowcolor\":\"#2a3f5f\",\"arrowhead\":0,\"arrowwidth\":1},\"geo\":{\"bgcolor\":\"white\",\"landcolor\":\"#E5ECF6\",\"subunitcolor\":\"white\",\"showland\":true,\"showlakes\":true,\"lakecolor\":\"white\"},\"title\":{\"x\":0.05},\"mapbox\":{\"style\":\"light\"}}},\"title\":{\"text\":\"Model Comparison Table (R\\u00b2 and RMSE Differences Across Train, Dev, and Test Sets)\",\"x\":0.5},\"height\":520},                        {\"responsive\": true}                    ).then(function(){\n",
       "                            \n",
       "var gd = document.getElementById('6caf37e5-9dea-4e87-8e49-fce5c5efb856');\n",
       "var x = new MutationObserver(function (mutations, observer) {{\n",
       "        var display = window.getComputedStyle(gd).display;\n",
       "        if (!display || display === 'none') {{\n",
       "            console.log([gd, 'removed!']);\n",
       "            Plotly.purge(gd);\n",
       "            observer.disconnect();\n",
       "        }}\n",
       "}});\n",
       "\n",
       "// Listen for the removal of the full notebook cells\n",
       "var notebookContainer = gd.closest('#notebook-container');\n",
       "if (notebookContainer) {{\n",
       "    x.observe(notebookContainer, {childList: true});\n",
       "}}\n",
       "\n",
       "// Listen for the clearing of the current output cell\n",
       "var outputEl = gd.closest('.output');\n",
       "if (outputEl) {{\n",
       "    x.observe(outputEl, {childList: true});\n",
       "}}\n",
       "\n",
       "                        })                };                });            </script>        </div>"
      ]
     },
     "metadata": {},
     "output_type": "display_data"
    }
   ],
   "source": [
    "# Adjust the table height based on the number of rows\n",
    "num_rows = len(results_df)\n",
    "row_height = 60  # Adjust this value based on your preferences for row height\n",
    "table_height = row_height * num_rows + 100  # Add some padding for headers and title\n",
    "\n",
    "# Exclude the Dev differences from the results_df\n",
    "results_df_filtered = results_df.drop(['Dev R² Difference', 'Dev RMSE Difference'], axis=1)\n",
    "\n",
    "# Sort the DataFrame by Test R² (descending), Test RMSE (ascending), and Test R² Difference (ascending)\n",
    "results_df_filtered = results_df_filtered.sort_values(\n",
    "    by=['Test R²', 'Test RMSE', 'Test R² Difference', 'Test RMSE Difference'],\n",
    "    ascending=[False, True, True, True]\n",
    ")\n",
    "\n",
    "# Display the comparison table using Plotly for a larger and more visually appealing result\n",
    "fig = go.Figure(data=[go.Table(\n",
    "    header=dict(values=list(results_df_filtered.columns),\n",
    "                fill_color='paleturquoise',\n",
    "                align='left'),\n",
    "    cells=dict(values=[results_df_filtered[col] for col in results_df_filtered.columns],\n",
    "               fill_color='lavender',\n",
    "               align='left'))\n",
    "])\n",
    "\n",
    "# Adjust the height to fit all rows\n",
    "fig.update_layout(\n",
    "    title_text=\"Model Comparison Table (R² and RMSE Differences Across Train, Dev, and Test Sets)\",\n",
    "    title_x=0.5,\n",
    "    height=table_height  # Set the calculated height\n",
    ")\n",
    "\n",
    "fig.show()\n"
   ]
  },
  {
   "cell_type": "markdown",
   "id": "956ad49a-2747-4c57-8f0f-5b38486849da",
   "metadata": {},
   "source": [
    "In this section of the analysis, I iteratively adjusted the hyperparameters for each model to address the problem of overfitting and improve generalization on unseen data. Overfitting occurs when a model performs well on the training set but fails to generalize on validation or test sets, leading to high variance.\n",
    "\n",
    "### Hyperparameter Tuning Strategy:\n",
    "For each model, I employed a GridSearchCV approach to explore a range of hyperparameters and select the best combination based on validation performance. Here's how I addressed overfitting for specific models:\n",
    "\n",
    "- **ElasticNet**: By setting `alpha` to 0.1 and `l1_ratio` to 0.7, I applied a combination of L1 (Lasso) and L2 (Ridge) regularization. This balance penalizes the complexity of the model, reducing overfitting while retaining enough flexibility to capture relationships in the data.\n",
    "  \n",
    "- **Decision Tree**: I limited the model's complexity by restricting the `max_depth` to 7, and setting `min_samples_leaf` to 5. These constraints force the model to generalize better by ensuring that each leaf node contains a minimum number of samples, preventing the model from overfitting to the training data.\n",
    "\n",
    "- **Random Forest**: I kept `max_depth` unlimited, but increased the `min_samples_leaf` to 5 to prevent overfitting. Using 300 trees also ensures that the model captures a wide range of patterns while maintaining stability across different datasets.\n",
    "\n",
    "- **Gradient Boosting**: To mitigate overfitting, I set a **lower learning rate** of 0.05, and restricted the tree depth to 5 while increasing the `min_samples_leaf` to 10. This slower learning rate helps the model avoid fitting noise in the training data and generalizes better to new data.\n",
    "\n",
    "- **SVM**: By setting `C` to 10 and `epsilon` to 0.5 with an RBF kernel, I controlled the balance between model flexibility and error tolerance. This prevents the model from overfitting to small deviations in the data.\n",
    "\n",
    "- **k-NN**: I increased the number of neighbors to 10 and weighted the predictions by distance to smooth the decision boundaries and reduce sensitivity to noise, which helps with overfitting.\n",
    "\n",
    "- **Artificial Neural Network (ANN)**: I used a smaller learning rate (`learning_rate_init = 0.01`) and a regularization parameter (`alpha = 0.1`) to avoid overfitting while maintaining model flexibility with a hidden layer size of 50 neurons.\n",
    "\n",
    "### Results:\n",
    "- **Gradient Boosting** and **Artificial Neural Network (ANN)** showed the best performance. respectively Both models exhibited strong generalization, with low overfitting as indicated by their small R² and RMSE differences.\n",
    "  \n",
    "- **Random Forest** and **SVM** also performed well. These models showed moderate overfitting, but the chosen hyperparameters helped maintain good generalization.\n",
    "  \n",
    "- **k-NN**, despite achieving high accuracy on the training set, suffered from significant overfitting, as seen in the large R² and RMSE differences between the train and test sets.\n",
    "  \n",
    "- **ElasticNet** and **Linear Regression** had lower performance compared to more complex models but generalized well, with minimal overfitting and stable performance across the dev and test sets.\n",
    "\n",
    "Through these iterative adjustments, I was able to reduce overfitting in most models while maximizing their generalization performance on unseen data.\n",
    "In addition to the hyperparameter tuning, the models can still be further optimized through other techniques such as error analysis and additional experimentation. By analyzing the types of errors the models make (e.g., large errors for certain feature values or outliers), I can identify areas where improvements are needed. Techniques like cross-validation, feature selection, or even ensembles of models may enhance performance further.\n",
    "Additionally, investigating the residuals or applying methods like regularization adjustments or feature engineering could reduce remaining overfitting or improve accuracy. Therefore, while the current models show good results, there are still opportunities for further refinement and optimization."
   ]
  },
  {
   "cell_type": "code",
   "execution_count": 9,
   "id": "32b79063-cdb5-47bc-b2b2-c6bcdca4a4a3",
   "metadata": {},
   "outputs": [],
   "source": [
    "# Separate regression models from other models\n",
    "regression_models = ['Linear Regression', 'ElasticNet']\n",
    "other_models = ['Random Forest', 'Gradient Boosting', 'Decision Tree', 'SVM', 'k-NN', 'Artificial Neural Network (ANN)']\n",
    "\n",
    "if feature_importances:\n",
    "    # Create a DataFrame for feature importances\n",
    "    importance_df = pd.DataFrame(feature_importances).T\n",
    "    importance_df.columns = X.columns\n",
    "    importance_df = importance_df.melt(var_name='Feature', value_name='Importance', ignore_index=False)\n",
    "    importance_df.reset_index(inplace=True)\n",
    "    importance_df.rename(columns={'index': 'Model'}, inplace=True)\n",
    "    \n",
    "    # Split the DataFrame into regression and other models\n",
    "    regression_df = importance_df[importance_df['Model'].isin(regression_models)]\n",
    "    other_models_df = importance_df[importance_df['Model'].isin(other_models)]\n",
    "    \n",
    "    # Plot for Regression Models (Coefficients)\n",
    "    plt.figure(figsize=(12, 6))\n",
    "    sns.barplot(x='Importance', y='Feature', hue='Model', data=regression_df, palette='Blues')\n",
    "    plt.title('Feature Coefficients (Importance) for Regression Models')\n",
    "    plt.show()\n",
    "\n",
    "    # Plot for Other Models (Feature Importance)\n",
    "    plt.figure(figsize=(12, 6))\n",
    "    sns.barplot(x='Importance', y='Feature', hue='Model', data=other_models_df, palette='Greens')\n",
    "    plt.title('Feature Importance for Tree-Based Models, SVM, k-NN, and ANN')\n",
    "    plt.show()\n"
   ]
  },
  {
   "cell_type": "markdown",
   "id": "b3bda59f-9e07-47b0-9ceb-337c8c00709b",
   "metadata": {},
   "source": [
    "### Units Explanation:\n",
    "\n",
    "**Regression Models** (Linear Regression, ElasticNet):\n",
    "For regression models, the importance of a feature is represented by its coefficient, which directly shows the weight or influence of that feature on the target variable.\n",
    "\n",
    "**Other Models** (Random Forest, Gradient Boosting, etc.):\n",
    "In tree-based models or ANN, the importance of a feature is typically based on how much it reduces the error (e.g., reduction in mean squared error) across all the trees or layers. Higher values indicate that a feature is used more frequently and significantly in the model's decision-making process."
   ]
  },
  {
   "cell_type": "code",
   "execution_count": 8,
   "id": "cc4449ce-84e6-44f8-bd8b-734fdfa2a260",
   "metadata": {},
   "outputs": [],
   "source": [
    "# Separate regression models from other models\n",
    "regression_models = ['Linear Regression', 'ElasticNet']\n",
    "other_models = ['Random Forest', 'Gradient Boosting', 'Decision Tree', 'SVM', 'k-NN', 'Artificial Neural Network (ANN)']\n",
    "\n",
    "if feature_importances:\n",
    "    # Create a DataFrame for feature importances\n",
    "    importance_df = pd.DataFrame(feature_importances).T\n",
    "    importance_df.columns = X.columns\n",
    "    importance_df = importance_df.melt(var_name='Feature', value_name='Importance', ignore_index=False)\n",
    "    importance_df.reset_index(inplace=True)\n",
    "    importance_df.rename(columns={'index': 'Model'}, inplace=True)\n",
    "    \n",
    "    # Split the DataFrame into regression and other models\n",
    "    regression_df = importance_df[importance_df['Model'].isin(regression_models)]\n",
    "    other_models_df = importance_df[importance_df['Model'].isin(other_models)]\n",
    "    \n",
    "    # Sort features by importance within each model for regression models\n",
    "    regression_df = regression_df.sort_values(by=['Model', 'Importance'], ascending=[True, False])\n",
    "\n",
    "    # Sort features by importance within each model for other models\n",
    "    other_models_df = other_models_df.sort_values(by=['Model', 'Importance'], ascending=[True, False])\n",
    "    \n",
    "    # Plot for Regression Models (Sorted by Coefficients)\n",
    "    plt.figure(figsize=(12, 6))\n",
    "    sns.barplot(x='Importance', y='Feature', hue='Model', data=regression_df, palette='Blues')\n",
    "    plt.title('Feature Coefficients (Importance) for Regression Models (Sorted)')\n",
    "    plt.show()\n",
    "\n",
    "    # Plot for Other Models (Sorted by Feature Importance)\n",
    "    plt.figure(figsize=(12, 6))\n",
    "    sns.barplot(x='Importance', y='Feature', hue='Model', data=other_models_df, palette='Greens')\n",
    "    plt.title('Feature Importance for Tree-Based Models, SVM, k-NN, and ANN (Sorted)')\n",
    "    plt.show()\n"
   ]
  }
 ],
 "metadata": {
  "kernelspec": {
   "display_name": "Python 3 (ipykernel)",
   "language": "python",
   "name": "python3"
  },
  "language_info": {
   "codemirror_mode": {
    "name": "ipython",
    "version": 3
   },
   "file_extension": ".py",
   "mimetype": "text/x-python",
   "name": "python",
   "nbconvert_exporter": "python",
   "pygments_lexer": "ipython3",
   "version": "3.11.7"
  }
 },
 "nbformat": 4,
 "nbformat_minor": 5
}
